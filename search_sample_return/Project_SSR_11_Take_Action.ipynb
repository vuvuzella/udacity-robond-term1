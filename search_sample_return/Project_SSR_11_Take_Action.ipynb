{
 "cells": [
  {
   "cell_type": "code",
   "execution_count": null,
   "metadata": {},
   "outputs": [],
   "source": [
    "# commands - (throttle, brake, steering) strings?\n",
    "# image_string1 - Rover.vision_image converted to base 64\n",
    "# image_string2 - Rover.worldmap - image converted to base64\n",
    "\n",
    "def send_control(commands, image_string1, image_string2):\n",
    "    # Define commands to be sent to the rover\n",
    "    data={ # dictionary\n",
    "        'throttle': commands[0].__str__(),\n",
    "        'brake': commands[1].__str__(),\n",
    "        'steering_angle': commands[2].__str__(),\n",
    "        'inset_image1': image_string1,\n",
    "        'inset_image2': image_string2,\n",
    "        }\n",
    "    # Send commands via socketIO server\n",
    "    sio.emit(\n",
    "        \"data\",\n",
    "        data,\n",
    "        skip_sid=True)"
   ]
  }
 ],
 "metadata": {
  "kernelspec": {
   "display_name": "Python 3",
   "language": "python",
   "name": "python3"
  },
  "language_info": {
   "codemirror_mode": {
    "name": "ipython",
    "version": 3
   },
   "file_extension": ".py",
   "mimetype": "text/x-python",
   "name": "python",
   "nbconvert_exporter": "python",
   "pygments_lexer": "ipython3",
   "version": "3.5.2"
  }
 },
 "nbformat": 4,
 "nbformat_minor": 2
}
